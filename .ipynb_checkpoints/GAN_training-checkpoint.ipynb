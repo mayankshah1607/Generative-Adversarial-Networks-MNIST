{
 "cells": [
  {
   "cell_type": "code",
   "execution_count": 1,
   "metadata": {},
   "outputs": [
    {
     "name": "stderr",
     "output_type": "stream",
     "text": [
      "C:\\Users\\mayan\\Anaconda3\\envs\\tensorflow\\lib\\site-packages\\h5py\\__init__.py:36: FutureWarning: Conversion of the second argument of issubdtype from `float` to `np.floating` is deprecated. In future, it will be treated as `np.float64 == np.dtype(float).type`.\n",
      "  from ._conv import register_converters as _register_converters\n"
     ]
    }
   ],
   "source": [
    "import tensorflow as tf\n",
    "import numpy as np"
   ]
  },
  {
   "cell_type": "code",
   "execution_count": 2,
   "metadata": {
    "collapsed": true
   },
   "outputs": [],
   "source": [
    "import matplotlib.pyplot as plt\n",
    "%matplotlib inline"
   ]
  },
  {
   "cell_type": "code",
   "execution_count": 3,
   "metadata": {
    "collapsed": true
   },
   "outputs": [],
   "source": [
    "#import mnist data\n",
    "from tensorflow.examples.tutorials.mnist import input_data"
   ]
  },
  {
   "cell_type": "code",
   "execution_count": 4,
   "metadata": {},
   "outputs": [
    {
     "name": "stdout",
     "output_type": "stream",
     "text": [
      "WARNING:tensorflow:From <ipython-input-4-ecb96bba3570>:1: read_data_sets (from tensorflow.contrib.learn.python.learn.datasets.mnist) is deprecated and will be removed in a future version.\n",
      "Instructions for updating:\n",
      "Please use alternatives such as official/mnist/dataset.py from tensorflow/models.\n",
      "WARNING:tensorflow:From C:\\Users\\mayan\\Anaconda3\\envs\\tensorflow\\lib\\site-packages\\tensorflow\\contrib\\learn\\python\\learn\\datasets\\mnist.py:260: maybe_download (from tensorflow.contrib.learn.python.learn.datasets.base) is deprecated and will be removed in a future version.\n",
      "Instructions for updating:\n",
      "Please write your own downloading logic.\n",
      "WARNING:tensorflow:From C:\\Users\\mayan\\Anaconda3\\envs\\tensorflow\\lib\\site-packages\\tensorflow\\contrib\\learn\\python\\learn\\datasets\\mnist.py:262: extract_images (from tensorflow.contrib.learn.python.learn.datasets.mnist) is deprecated and will be removed in a future version.\n",
      "Instructions for updating:\n",
      "Please use tf.data to implement this functionality.\n",
      "Extracting ./Data\\train-images-idx3-ubyte.gz\n",
      "WARNING:tensorflow:From C:\\Users\\mayan\\Anaconda3\\envs\\tensorflow\\lib\\site-packages\\tensorflow\\contrib\\learn\\python\\learn\\datasets\\mnist.py:267: extract_labels (from tensorflow.contrib.learn.python.learn.datasets.mnist) is deprecated and will be removed in a future version.\n",
      "Instructions for updating:\n",
      "Please use tf.data to implement this functionality.\n",
      "Extracting ./Data\\train-labels-idx1-ubyte.gz\n",
      "WARNING:tensorflow:From C:\\Users\\mayan\\Anaconda3\\envs\\tensorflow\\lib\\site-packages\\tensorflow\\contrib\\learn\\python\\learn\\datasets\\mnist.py:110: dense_to_one_hot (from tensorflow.contrib.learn.python.learn.datasets.mnist) is deprecated and will be removed in a future version.\n",
      "Instructions for updating:\n",
      "Please use tf.one_hot on tensors.\n",
      "Extracting ./Data\\t10k-images-idx3-ubyte.gz\n",
      "Extracting ./Data\\t10k-labels-idx1-ubyte.gz\n",
      "WARNING:tensorflow:From C:\\Users\\mayan\\Anaconda3\\envs\\tensorflow\\lib\\site-packages\\tensorflow\\contrib\\learn\\python\\learn\\datasets\\mnist.py:290: DataSet.__init__ (from tensorflow.contrib.learn.python.learn.datasets.mnist) is deprecated and will be removed in a future version.\n",
      "Instructions for updating:\n",
      "Please use alternatives such as official/mnist/dataset.py from tensorflow/models.\n"
     ]
    }
   ],
   "source": [
    "mnist = input_data.read_data_sets(\"./Data\",one_hot=True)"
   ]
  },
  {
   "cell_type": "code",
   "execution_count": 5,
   "metadata": {},
   "outputs": [
    {
     "data": {
      "text/plain": [
       "<matplotlib.image.AxesImage at 0x1f4ed376d30>"
      ]
     },
     "execution_count": 5,
     "metadata": {},
     "output_type": "execute_result"
    },
    {
     "data": {
      "image/png": "[encoded data removed]",
      "text/plain": [
       "<Figure size 432x288 with 1 Axes>"
      ]
     },
     "metadata": {},
     "output_type": "display_data"
    }
   ],
   "source": [
    "plt.imshow(mnist.train.images[13].reshape(28,28),cmap=\"gray\")"
   ]
  },
  {
   "cell_type": "code",
   "execution_count": 6,
   "metadata": {
    "collapsed": true
   },
   "outputs": [],
   "source": [
    "def generator(noise,reuse=None):\n",
    "    \n",
    "    with tf.variable_scope('gen',reuse=reuse):\n",
    "        \n",
    "        hidden1 = tf.layers.dense(inputs=noise,units=128,activation=tf.nn.leaky_relu)\n",
    "        hidden2 = tf.layers.dense(inputs=hidden1,units=128,activation=tf.nn.leaky_relu)\n",
    "        output = tf.layers.dense(inputs=hidden2,units=784,activation=tf.nn.tanh)\n",
    "        \n",
    "        return output"
   ]
  },
  {
   "cell_type": "code",
   "execution_count": 7,
   "metadata": {
    "collapsed": true
   },
   "outputs": [],
   "source": [
    "def discriminator(X,reuse=None):\n",
    "    \n",
    "    with tf.variable_scope('dis',reuse=reuse):\n",
    "        \n",
    "        hidden1 = tf.layers.dense(inputs=X,units=128,activation=tf.nn.leaky_relu)\n",
    "        hidden2 = tf.layers.dense(inputs=hidden1,units=128,activation=tf.nn.leaky_relu)\n",
    "        logits = tf.layers.dense(inputs=hidden2,units=1)\n",
    "        output = tf.sigmoid(logits)\n",
    "        \n",
    "        return output,logits"
   ]
  },
  {
   "cell_type": "code",
   "execution_count": 8,
   "metadata": {
    "collapsed": true
   },
   "outputs": [],
   "source": [
    "real_images = tf.placeholder(tf.float32,shape=[None,784])\n",
    "noise = tf.placeholder(tf.float32,shape=[None,100])"
   ]
  },
  {
   "cell_type": "code",
   "execution_count": 9,
   "metadata": {
    "collapsed": true
   },
   "outputs": [],
   "source": [
    "G = generator(noise)"
   ]
  },
  {
   "cell_type": "code",
   "execution_count": 10,
   "metadata": {
    "collapsed": true
   },
   "outputs": [],
   "source": [
    "D_output_real, D_logits_real = discriminator(real_images)  #Train on real images\n",
    "D_output_fake, D_logits_fake = discriminator(G,reuse=True) #Train on fake generated images"
   ]
  },
  {
   "cell_type": "code",
   "execution_count": 11,
   "metadata": {
    "collapsed": true
   },
   "outputs": [],
   "source": [
    "#loss \n",
    "\n",
    "def loss_func(logits_in,labels_in):\n",
    "    return tf.reduce_mean(tf.nn.sigmoid_cross_entropy_with_logits(logits=logits_in,labels=labels_in))"
   ]
  },
  {
   "cell_type": "code",
   "execution_count": 12,
   "metadata": {
    "collapsed": true
   },
   "outputs": [],
   "source": [
    "D_real_loss = loss_func(D_logits_real,tf.ones_like(D_logits_real))\n",
    "D_fake_loss = loss_func(D_logits_fake,tf.zeros_like(D_logits_fake))"
   ]
  },
  {
   "cell_type": "code",
   "execution_count": 13,
   "metadata": {
    "collapsed": true
   },
   "outputs": [],
   "source": [
    "D_loss = D_real_loss + D_fake_loss"
   ]
  },
  {
   "cell_type": "code",
   "execution_count": 14,
   "metadata": {
    "collapsed": true
   },
   "outputs": [],
   "source": [
    "G_loss = loss_func(D_logits_fake,tf.ones_like(D_logits_fake))"
   ]
  },
  {
   "cell_type": "code",
   "execution_count": 15,
   "metadata": {
    "collapsed": true
   },
   "outputs": [],
   "source": [
    "learning_rate = 0.001"
   ]
  },
  {
   "cell_type": "code",
   "execution_count": 16,
   "metadata": {
    "collapsed": true
   },
   "outputs": [],
   "source": [
    "tvars = tf.trainable_variables()\n",
    "\n",
    "d_vars = [var for var in tvars if 'dis' in var.name]\n",
    "g_vars = [var for var in tvars if 'gen' in var.name]"
   ]
  },
  {
   "cell_type": "code",
   "execution_count": 17,
   "metadata": {
    "collapsed": true
   },
   "outputs": [],
   "source": [
    "D_trainer = tf.train.AdamOptimizer(learning_rate).minimize(D_loss,var_list = d_vars)"
   ]
  },
  {
   "cell_type": "code",
   "execution_count": 18,
   "metadata": {
    "collapsed": true
   },
   "outputs": [],
   "source": [
    "G_trainer = tf.train.AdamOptimizer(learning_rate).minimize(G_loss, var_list = g_vars)"
   ]
  },
  {
   "cell_type": "code",
   "execution_count": 19,
   "metadata": {
    "collapsed": true
   },
   "outputs": [],
   "source": [
    "batch_size = 100"
   ]
  },
  {
   "cell_type": "code",
   "execution_count": 20,
   "metadata": {
    "collapsed": true
   },
   "outputs": [],
   "source": [
    "epochs = 500"
   ]
  },
  {
   "cell_type": "code",
   "execution_count": 21,
   "metadata": {
    "collapsed": true
   },
   "outputs": [],
   "source": [
    "init = tf.global_variables_initializer()"
   ]
  },
  {
   "cell_type": "code",
   "execution_count": 23,
   "metadata": {
    "collapsed": true
   },
   "outputs": [],
   "source": [
    "samples = []"
   ]
  },
  {
   "cell_type": "code",
   "execution_count": 24,
   "metadata": {},
   "outputs": [
    {
     "name": "stdout",
     "output_type": "stream",
     "text": [
      "On epoch 0\n",
      "On epoch 1\n",
      "On epoch 2\n",
      "On epoch 3\n",
      "On epoch 4\n",
      "On epoch 5\n",
      "On epoch 6\n",
      "On epoch 7\n",
      "On epoch 8\n",
      "On epoch 9\n",
      "On epoch 10\n",
      "On epoch 11\n",
      "On epoch 12\n",
      "On epoch 13\n",
      "On epoch 14\n",
      "On epoch 15\n",
      "On epoch 16\n",
      "On epoch 17\n",
      "On epoch 18\n",
      "On epoch 19\n",
      "On epoch 20\n",
      "On epoch 21\n",
      "On epoch 22\n",
      "On epoch 23\n",
      "On epoch 24\n",
      "On epoch 25\n",
      "On epoch 26\n",
      "On epoch 27\n",
      "On epoch 28\n",
      "On epoch 29\n",
      "On epoch 30\n",
      "On epoch 31\n",
      "On epoch 32\n",
      "On epoch 33\n",
      "On epoch 34\n",
      "On epoch 35\n",
      "On epoch 36\n",
      "On epoch 37\n",
      "On epoch 38\n",
      "On epoch 39\n",
      "On epoch 40\n",
      "On epoch 41\n",
      "On epoch 42\n",
      "On epoch 43\n",
      "On epoch 44\n",
      "On epoch 45\n",
      "On epoch 46\n",
      "On epoch 47\n",
      "On epoch 48\n",
      "On epoch 49\n",
      "On epoch 50\n",
      "On epoch 51\n",
      "On epoch 52\n",
      "On epoch 53\n",
      "On epoch 54\n",
      "On epoch 55\n",
      "On epoch 56\n",
      "On epoch 57\n",
      "On epoch 58\n",
      "On epoch 59\n",
      "On epoch 60\n",
      "On epoch 61\n",
      "On epoch 62\n",
      "On epoch 63\n",
      "On epoch 64\n",
      "On epoch 65\n",
      "On epoch 66\n",
      "On epoch 67\n",
      "On epoch 68\n",
      "On epoch 69\n",
      "On epoch 70\n",
      "On epoch 71\n",
      "On epoch 72\n",
      "On epoch 73\n",
      "On epoch 74\n",
      "On epoch 75\n",
      "On epoch 76\n",
      "On epoch 77\n",
      "On epoch 78\n",
      "On epoch 79\n",
      "On epoch 80\n",
      "On epoch 81\n",
      "On epoch 82\n",
      "On epoch 83\n",
      "On epoch 84\n",
      "On epoch 85\n",
      "On epoch 86\n",
      "On epoch 87\n",
      "On epoch 88\n",
      "On epoch 89\n",
      "On epoch 90\n",
      "On epoch 91\n",
      "On epoch 92\n",
      "On epoch 93\n",
      "On epoch 94\n",
      "On epoch 95\n",
      "On epoch 96\n",
      "On epoch 97\n",
      "On epoch 98\n",
      "On epoch 99\n",
      "On epoch 100\n",
      "On epoch 101\n",
      "On epoch 102\n",
      "On epoch 103\n",
      "On epoch 104\n",
      "On epoch 105\n",
      "On epoch 106\n",
      "On epoch 107\n",
      "On epoch 108\n",
      "On epoch 109\n",
      "On epoch 110\n",
      "On epoch 111\n",
      "On epoch 112\n",
      "On epoch 113\n",
      "On epoch 114\n",
      "On epoch 115\n",
      "On epoch 116\n",
      "On epoch 117\n",
      "On epoch 118\n",
      "On epoch 119\n",
      "On epoch 120\n",
      "On epoch 121\n",
      "On epoch 122\n",
      "On epoch 123\n",
      "On epoch 124\n",
      "On epoch 125\n",
      "On epoch 126\n",
      "On epoch 127\n",
      "On epoch 128\n",
      "On epoch 129\n",
      "On epoch 130\n",
      "On epoch 131\n",
      "On epoch 132\n",
      "On epoch 133\n",
      "On epoch 134\n",
      "On epoch 135\n",
      "On epoch 136\n",
      "On epoch 137\n",
      "On epoch 138\n",
      "On epoch 139\n",
      "On epoch 140\n",
      "On epoch 141\n",
      "On epoch 142\n",
      "On epoch 143\n",
      "On epoch 144\n",
      "On epoch 145\n",
      "On epoch 146\n",
      "On epoch 147\n",
      "On epoch 148\n",
      "On epoch 149\n",
      "On epoch 150\n",
      "On epoch 151\n",
      "On epoch 152\n",
      "On epoch 153\n",
      "On epoch 154\n",
      "On epoch 155\n",
      "On epoch 156\n",
      "On epoch 157\n",
      "On epoch 158\n",
      "On epoch 159\n",
      "On epoch 160\n",
      "On epoch 161\n",
      "On epoch 162\n",
      "On epoch 163\n",
      "On epoch 164\n",
      "On epoch 165\n",
      "On epoch 166\n",
      "On epoch 167\n",
      "On epoch 168\n",
      "On epoch 169\n",
      "On epoch 170\n",
      "On epoch 171\n",
      "On epoch 172\n",
      "On epoch 173\n",
      "On epoch 174\n",
      "On epoch 175\n",
      "On epoch 176\n",
      "On epoch 177\n",
      "On epoch 178\n",
      "On epoch 179\n",
      "On epoch 180\n",
      "On epoch 181\n",
      "On epoch 182\n",
      "On epoch 183\n",
      "On epoch 184\n",
      "On epoch 185\n",
      "On epoch 186\n",
      "On epoch 187\n",
      "On epoch 188\n",
      "On epoch 189\n",
      "On epoch 190\n",
      "On epoch 191\n",
      "On epoch 192\n",
      "On epoch 193\n",
      "On epoch 194\n",
      "On epoch 195\n",
      "On epoch 196\n",
      "On epoch 197\n",
      "On epoch 198\n",
      "On epoch 199\n",
      "On epoch 200\n",
      "On epoch 201\n",
      "On epoch 202\n",
      "On epoch 203\n",
      "On epoch 204\n",
      "On epoch 205\n",
      "On epoch 206\n",
      "On epoch 207\n",
      "On epoch 208\n",
      "On epoch 209\n",
      "On epoch 210\n",
      "On epoch 211\n",
      "On epoch 212\n",
      "On epoch 213\n",
      "On epoch 214\n",
      "On epoch 215\n",
      "On epoch 216\n",
      "On epoch 217\n",
      "On epoch 218\n",
      "On epoch 219\n",
      "On epoch 220\n",
      "On epoch 221\n",
      "On epoch 222\n",
      "On epoch 223\n",
      "On epoch 224\n",
      "On epoch 225\n",
      "On epoch 226\n",
      "On epoch 227\n",
      "On epoch 228\n",
      "On epoch 229\n",
      "On epoch 230\n",
      "On epoch 231\n",
      "On epoch 232\n",
      "On epoch 233\n",
      "On epoch 234\n",
      "On epoch 235\n",
      "On epoch 236\n",
      "On epoch 237\n",
      "On epoch 238\n",
      "On epoch 239\n",
      "On epoch 240\n",
      "On epoch 241\n",
      "On epoch 242\n",
      "On epoch 243\n",
      "On epoch 244\n",
      "On epoch 245\n",
      "On epoch 246\n",
      "On epoch 247\n",
      "On epoch 248\n",
      "On epoch 249\n",
      "On epoch 250\n",
      "On epoch 251\n",
      "On epoch 252\n",
      "On epoch 253\n",
      "On epoch 254\n",
      "On epoch 255\n",
      "On epoch 256\n",
      "On epoch 257\n",
      "On epoch 258\n",
      "On epoch 259\n",
      "On epoch 260\n",
      "On epoch 261\n",
      "On epoch 262\n",
      "On epoch 263\n",
      "On epoch 264\n",
      "On epoch 265\n",
      "On epoch 266\n",
      "On epoch 267\n",
      "On epoch 268\n",
      "On epoch 269\n",
      "On epoch 270\n",
      "On epoch 271\n",
      "On epoch 272\n",
      "On epoch 273\n",
      "On epoch 274\n",
      "On epoch 275\n",
      "On epoch 276\n",
      "On epoch 277\n",
      "On epoch 278\n",
      "On epoch 279\n",
      "On epoch 280\n",
      "On epoch 281\n",
      "On epoch 282\n",
      "On epoch 283\n",
      "On epoch 284\n",
      "On epoch 285\n",
      "On epoch 286\n",
      "On epoch 287\n",
      "On epoch 288\n",
      "On epoch 289\n",
      "On epoch 290\n",
      "On epoch 291\n",
      "On epoch 292\n",
      "On epoch 293\n",
      "On epoch 294\n",
      "On epoch 295\n",
      "On epoch 296\n",
      "On epoch 297\n",
      "On epoch 298\n",
      "On epoch 299\n",
      "On epoch 300\n",
      "On epoch 301\n",
      "On epoch 302\n",
      "On epoch 303\n",
      "On epoch 304\n",
      "On epoch 305\n",
      "On epoch 306\n",
      "On epoch 307\n",
      "On epoch 308\n",
      "On epoch 309\n",
      "On epoch 310\n",
      "On epoch 311\n",
      "On epoch 312\n",
      "On epoch 313\n",
      "On epoch 314\n",
      "On epoch 315\n",
      "On epoch 316\n",
      "On epoch 317\n",
      "On epoch 318\n",
      "On epoch 319\n",
      "On epoch 320\n",
      "On epoch 321\n",
      "On epoch 322\n",
      "On epoch 323\n",
      "On epoch 324\n",
      "On epoch 325\n",
      "On epoch 326\n",
      "On epoch 327\n",
      "On epoch 328\n",
      "On epoch 329\n",
      "On epoch 330\n",
      "On epoch 331\n",
      "On epoch 332\n",
      "On epoch 333\n",
      "On epoch 334\n",
      "On epoch 335\n",
      "On epoch 336\n",
      "On epoch 337\n",
      "On epoch 338\n",
      "On epoch 339\n",
      "On epoch 340\n",
      "On epoch 341\n",
      "On epoch 342\n",
      "On epoch 343\n",
      "On epoch 344\n",
      "On epoch 345\n",
      "On epoch 346\n",
      "On epoch 347\n",
      "On epoch 348\n",
      "On epoch 349\n",
      "On epoch 350\n",
      "On epoch 351\n",
      "On epoch 352\n",
      "On epoch 353\n",
      "On epoch 354\n",
      "On epoch 355\n",
      "On epoch 356\n",
      "On epoch 357\n",
      "On epoch 358\n",
      "On epoch 359\n",
      "On epoch 360\n",
      "On epoch 361\n",
      "On epoch 362\n",
      "On epoch 363\n",
      "On epoch 364\n",
      "On epoch 365\n",
      "On epoch 366\n",
      "On epoch 367\n",
      "On epoch 368\n",
      "On epoch 369\n",
      "On epoch 370\n",
      "On epoch 371\n",
      "On epoch 372\n",
      "On epoch 373\n",
      "On epoch 374\n",
      "On epoch 375\n",
      "On epoch 376\n",
      "On epoch 377\n",
      "On epoch 378\n",
      "On epoch 379\n",
      "On epoch 380\n",
      "On epoch 381\n",
      "On epoch 382\n",
      "On epoch 383\n",
      "On epoch 384\n",
      "On epoch 385\n",
      "On epoch 386\n",
      "On epoch 387\n",
      "On epoch 388\n",
      "On epoch 389\n",
      "On epoch 390\n",
      "On epoch 391\n",
      "On epoch 392\n",
      "On epoch 393\n",
      "On epoch 394\n",
      "On epoch 395\n",
      "On epoch 396\n",
      "On epoch 397\n",
      "On epoch 398\n",
      "On epoch 399\n",
      "On epoch 400\n",
      "On epoch 401\n",
      "On epoch 402\n",
      "On epoch 403\n",
      "On epoch 404\n",
      "On epoch 405\n",
      "On epoch 406\n",
      "On epoch 407\n",
      "On epoch 408\n",
      "On epoch 409\n",
      "On epoch 410\n",
      "On epoch 411\n",
      "On epoch 412\n",
      "On epoch 413\n",
      "On epoch 414\n",
      "On epoch 415\n",
      "On epoch 416\n",
      "On epoch 417\n",
      "On epoch 418\n",
      "On epoch 419\n",
      "On epoch 420\n",
      "On epoch 421\n",
      "On epoch 422\n",
      "On epoch 423\n",
      "On epoch 424\n",
      "On epoch 425\n",
      "On epoch 426\n",
      "On epoch 427\n",
      "On epoch 428\n",
      "On epoch 429\n",
      "On epoch 430\n",
      "On epoch 431\n",
      "On epoch 432\n",
      "On epoch 433\n",
      "On epoch 434\n",
      "On epoch 435\n",
      "On epoch 436\n",
      "On epoch 437\n",
      "On epoch 438\n",
      "On epoch 439\n",
      "On epoch 440\n",
      "On epoch 441\n",
      "On epoch 442\n",
      "On epoch 443\n",
      "On epoch 444\n",
      "On epoch 445\n",
      "On epoch 446\n",
      "On epoch 447\n",
      "On epoch 448\n",
      "On epoch 449\n",
      "On epoch 450\n",
      "On epoch 451\n",
      "On epoch 452\n",
      "On epoch 453\n",
      "On epoch 454\n",
      "On epoch 455\n",
      "On epoch 456\n",
      "On epoch 457\n",
      "On epoch 458\n",
      "On epoch 459\n",
      "On epoch 460\n",
      "On epoch 461\n",
      "On epoch 462\n",
      "On epoch 463\n",
      "On epoch 464\n",
      "On epoch 465\n",
      "On epoch 466\n",
      "On epoch 467\n",
      "On epoch 468\n",
      "On epoch 469\n",
      "On epoch 470\n",
      "On epoch 471\n",
      "On epoch 472\n",
      "On epoch 473\n",
      "On epoch 474\n",
      "On epoch 475\n",
      "On epoch 476\n",
      "On epoch 477\n",
      "On epoch 478\n",
      "On epoch 479\n",
      "On epoch 480\n",
      "On epoch 481\n",
      "On epoch 482\n",
      "On epoch 483\n",
      "On epoch 484\n",
      "On epoch 485\n",
      "On epoch 486\n",
      "On epoch 487\n",
      "On epoch 488\n",
      "On epoch 489\n",
      "On epoch 490\n",
      "On epoch 491\n",
      "On epoch 492\n",
      "On epoch 493\n",
      "On epoch 494\n",
      "On epoch 495\n",
      "On epoch 496\n",
      "On epoch 497\n",
      "On epoch 498\n",
      "On epoch 499\n"
     ]
    }
   ],
   "source": [
    "with tf.Session() as sess:\n",
    "    \n",
    "    sess.run(init)\n",
    "    \n",
    "    for epoch in range(epochs):\n",
    "        \n",
    "        num_batches = mnist.train.num_examples // batch_size\n",
    "        \n",
    "        for i in range(num_batches):\n",
    "            \n",
    "            batch = mnist.train.next_batch(batch_size)\n",
    "            batch_images = batch[0].reshape((batch_size,784))\n",
    "            batch_images = batch_images * 2 - 1\n",
    "            \n",
    "            batch_noise = np.random.uniform(-1,1,size=(batch_size,100))\n",
    "            \n",
    "            _ = sess.run(D_trainer,feed_dict = {real_images: batch_images, noise : batch_noise})\n",
    "            _ = sess.run(G_trainer,feed_dict = {noise : batch_noise})\n",
    "            \n",
    "        print(\"On epoch {}\".format(epoch))\n",
    "        sample_z = np.random.uniform(-1,1,size=(1,100))\n",
    "        gen_sample = sess.run(generator(noise,reuse=True),feed_dict={noise: sample_z})\n",
    "        \n",
    "        samples.append(gen_sample)"
   ]
  },
  {
   "cell_type": "code",
   "execution_count": 25,
   "metadata": {},
   "outputs": [
    {
     "data": {
      "text/plain": [
       "<matplotlib.image.AxesImage at 0x1f4de17e0b8>"
      ]
     },
     "execution_count": 25,
     "metadata": {},
     "output_type": "execute_result"
    },
    {
     "data": {
      "image/png": "[encoded data removed]",
      "text/plain": [
       "<Figure size 432x288 with 1 Axes>"
      ]
     },
     "metadata": {},
     "output_type": "display_data"
    }
   ],
   "source": [
    "#Generating after 1st epoch\n",
    "plt.imshow(samples[0].reshape(28,28))"
   ]
  },
  {
   "cell_type": "code",
   "execution_count": 27,
   "metadata": {},
   "outputs": [
    {
     "data": {
      "text/plain": [
       "<matplotlib.image.AxesImage at 0x1f4de1ec9e8>"
      ]
     },
     "execution_count": 27,
     "metadata": {},
     "output_type": "execute_result"
    },
    {
     "data": {
      "image/png": "[encoded data removed]",
      "text/plain": [
       "<Figure size 432x288 with 1 Axes>"
      ]
     },
     "metadata": {},
     "output_type": "display_data"
    }
   ],
   "source": [
    "#Generating examples after 400 epochs\n",
    "plt.imshow(samples[400].reshape(28,28))"
   ]
  },
  {
   "cell_type": "code",
   "execution_count": null,
   "metadata": {
    "collapsed": true
   },
   "outputs": [],
   "source": []
  }
 ],
 "metadata": {
  "kernelspec": {
   "display_name": "Python 3",
   "language": "python",
   "name": "python3"
  },
  "language_info": {
   "codemirror_mode": {
    "name": "ipython",
    "version": 3
   },
   "file_extension": ".py",
   "mimetype": "text/x-python",
   "name": "python",
   "nbconvert_exporter": "python",
   "pygments_lexer": "ipython3",
   "version": "3.5.4"
  }
 },
 "nbformat": 4,
 "nbformat_minor": 2
}
